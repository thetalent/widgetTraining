{
 "cells": [
  {
   "cell_type": "code",
   "execution_count": 4,
   "id": "d9b7a611",
   "metadata": {
    "lang": "en"
   },
   "outputs": [
    {
     "data": {
      "application/vnd.jupyter.widget-view+json": {
       "model_id": "bcf8b2bc10b248d88bbfc4fca725683b",
       "version_major": 2,
       "version_minor": 0
      },
      "text/plain": [
       "interactive(children=(FloatSlider(value=3.0, description='last', max=300.0, step=0.01), Dropdown(description='…"
      ]
     },
     "metadata": {},
     "output_type": "display_data"
    },
    {
     "data": {
      "text/plain": [
       "<function __main__.myplot(last=3, f=<ufunc 'sin'>)>"
      ]
     },
     "execution_count": 4,
     "metadata": {},
     "output_type": "execute_result"
    }
   ],
   "source": [
    "%matplotlib inline\n",
    "\n",
    "\n",
    "\n",
    "from ipywidgets import widgets\n",
    "from ipywidgets import IntSlider \n",
    "import numpy as np\n",
    "from matplotlib import pyplot as plt\n",
    "\n",
    "def myplot(last= 3, f = np.sin):\n",
    "    x = np.arange(0,last,0.01)\n",
    "    y = f(x)\n",
    "    plt.plot(x,y)\n",
    "\n",
    "widgets.interact(myplot, last=(0,300,0.01),f = [np.sin, np.cos,np.tan,lambda x:(x-1)%9 + 1])"
   ]
  },
  {
   "cell_type": "markdown",
   "id": "4c3b2b62",
   "metadata": {
    "lang": "fr"
   },
   "source": [
    "widgets.interact(myplot, last=(0,100,0.01))"
   ]
  }
 ],
 "metadata": {
  "celltoolbar": "Attachments",
  "kernelspec": {
   "display_name": "Python 3 (ipykernel)",
   "language": "python",
   "name": "python3"
  },
  "language_info": {
   "codemirror_mode": {
    "name": "ipython",
    "version": 3
   },
   "file_extension": ".py",
   "mimetype": "text/x-python",
   "name": "python",
   "nbconvert_exporter": "python",
   "pygments_lexer": "ipython3",
   "version": "3.10.6"
  },
  "toc-autonumbering": true,
  "toc-showtags": true,
  "varInspector": {
   "cols": {
    "lenName": 16,
    "lenType": 16,
    "lenVar": 40
   },
   "kernels_config": {
    "python": {
     "delete_cmd_postfix": "",
     "delete_cmd_prefix": "del ",
     "library": "var_list.py",
     "varRefreshCmd": "print(var_dic_list())"
    },
    "r": {
     "delete_cmd_postfix": ") ",
     "delete_cmd_prefix": "rm(",
     "library": "var_list.r",
     "varRefreshCmd": "cat(var_dic_list()) "
    }
   },
   "types_to_exclude": [
    "module",
    "function",
    "builtin_function_or_method",
    "instance",
    "_Feature"
   ],
   "window_display": false
  }
 },
 "nbformat": 4,
 "nbformat_minor": 5
}
